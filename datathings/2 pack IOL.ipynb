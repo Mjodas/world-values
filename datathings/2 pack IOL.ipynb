{
 "cells": [
  {
   "cell_type": "code",
   "execution_count": 69,
   "metadata": {},
   "outputs": [],
   "source": [
    "import os\n",
    "import pandas as pd"
   ]
  },
  {
   "cell_type": "code",
   "execution_count": 70,
   "metadata": {},
   "outputs": [],
   "source": [
    "path = './wave4IIL/'\n",
    "icq_file = 'wave4work.xls'\n",
    "save_file_name = 'wave4work.xls'"
   ]
  },
  {
   "cell_type": "code",
   "execution_count": 71,
   "metadata": {},
   "outputs": [],
   "source": [
    "new_columns = ['IIL: Family', 'IIL: Work','IIL: Religion','IIL: Politics',]"
   ]
  },
  {
   "cell_type": "code",
   "execution_count": 72,
   "metadata": {},
   "outputs": [
    {
     "name": "stdout",
     "output_type": "stream",
     "text": [
      "Important_in_life_Family.xls\n",
      "Important_in_life_Work.xls\n",
      "Important_in_life_Religion.xls\n",
      "Important_in_life_Politics.xls\n"
     ]
    }
   ],
   "source": [
    "for file in os.listdir(path):\n",
    "    print(file)"
   ]
  },
  {
   "cell_type": "code",
   "execution_count": 73,
   "metadata": {},
   "outputs": [
    {
     "data": {
      "text/plain": [
       "(37, 11)"
      ]
     },
     "execution_count": 73,
     "metadata": {},
     "output_type": "execute_result"
    }
   ],
   "source": [
    "icq = pd.read_excel(icq_file)\n",
    "icq.shape"
   ]
  },
  {
   "cell_type": "code",
   "execution_count": 74,
   "metadata": {},
   "outputs": [
    {
     "name": "stdout",
     "output_type": "stream",
     "text": [
      "Important_in_life_Family.xls\n",
      "(37,)\n",
      "(37, 12)\n",
      "Important_in_life_Work.xls\n",
      "(37,)\n",
      "(37, 13)\n",
      "Important_in_life_Religion.xls\n",
      "(37,)\n",
      "(37, 14)\n",
      "Important_in_life_Politics.xls\n",
      "(37,)\n",
      "(37, 15)\n"
     ]
    }
   ],
   "source": [
    "for file, col in zip(os.listdir(path), new_columns):\n",
    "    if file == '.DS_Store':\n",
    "        continue\n",
    "    print(file)\n",
    "    current_df = pd.read_excel(path+file)\n",
    "    \n",
    "    vi = current_df.iloc[0][1:]\n",
    "    i = current_df.iloc[1][1:]\n",
    "    data = i + vi\n",
    "    print(data.shape)\n",
    "    icq[col] = data.values\n",
    "    print(icq.shape)"
   ]
  },
  {
   "cell_type": "code",
   "execution_count": 75,
   "metadata": {},
   "outputs": [],
   "source": [
    "icq.to_excel(save_file_name, index=False)"
   ]
  },
  {
   "cell_type": "code",
   "execution_count": null,
   "metadata": {},
   "outputs": [],
   "source": []
  }
 ],
 "metadata": {
  "kernelspec": {
   "display_name": "Python 3",
   "language": "python",
   "name": "python3"
  },
  "language_info": {
   "codemirror_mode": {
    "name": "ipython",
    "version": 3
   },
   "file_extension": ".py",
   "mimetype": "text/x-python",
   "name": "python",
   "nbconvert_exporter": "python",
   "pygments_lexer": "ipython3",
   "version": "3.7.5"
  }
 },
 "nbformat": 4,
 "nbformat_minor": 2
}
