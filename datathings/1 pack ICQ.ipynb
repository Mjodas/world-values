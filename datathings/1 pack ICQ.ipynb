{
 "cells": [
  {
   "cell_type": "code",
   "execution_count": 148,
   "metadata": {},
   "outputs": [],
   "source": [
    "import os\n",
    "import pandas as pd"
   ]
  },
  {
   "cell_type": "code",
   "execution_count": 149,
   "metadata": {},
   "outputs": [
    {
     "name": "stdout",
     "output_type": "stream",
     "text": [
      "Important_child_qualities_independence.xls\n",
      ".DS_Store\n",
      "Important_child_qualities_determination_perseverance.xls\n",
      "Important_child_qualities_tolerance_and_respect_for_other_people.xls\n",
      "Important_child_qualities_imagination.xls\n",
      "Important_child_qualities_religious_faith.xls\n",
      "Important_child_qualities_obedience.xls\n",
      "Important_child_qualities_feeling_of_responsibility.xls\n",
      "Important_child_qualities_thrift_saving_money_and_things.xls\n",
      "Important_child_qualities_unselfishness.xls\n",
      "Important_child_qualities_Hard_work.xls\n"
     ]
    }
   ],
   "source": [
    "path = './wave4ICQ/'\n",
    "filename = 'wave4work.xls'\n",
    "\n",
    "for file in os.listdir(path):\n",
    "    print(file)"
   ]
  },
  {
   "cell_type": "code",
   "execution_count": 150,
   "metadata": {},
   "outputs": [],
   "source": [
    "#new_cols = ['ICQ: Responsibility', 'ICQ: Unselfishness','ICQ: Fatih','ICQ: Thrift','ICQ: Perseverance','ICQ: Imagination','ICQ: Hard word','ICQ: Independence','ICQ: Self expression','ICQ: Respect']\n",
    "new_cols = ['ICQ: Independence','ICQ: Perseverance','ICQ: Respect','ICQ: Imagination','ICQ: Faith','ICQ: Obedience','ICQ: Responsibility','ICQ: Thrift','ICQ: Unselfishness','ICQ: Hard work']"
   ]
  },
  {
   "cell_type": "code",
   "execution_count": 151,
   "metadata": {},
   "outputs": [
    {
     "name": "stdout",
     "output_type": "stream",
     "text": [
      "Important_child_qualities_independence.xls\n",
      "(1, 37)\n",
      "Important_child_qualities_determination_perseverance.xls\n",
      "(2, 37)\n",
      "Important_child_qualities_tolerance_and_respect_for_other_people.xls\n",
      "(3, 37)\n",
      "Important_child_qualities_imagination.xls\n",
      "(4, 37)\n",
      "Important_child_qualities_religious_faith.xls\n",
      "(5, 37)\n",
      "Important_child_qualities_obedience.xls\n",
      "(6, 37)\n",
      "Important_child_qualities_feeling_of_responsibility.xls\n",
      "(7, 37)\n",
      "Important_child_qualities_thrift_saving_money_and_things.xls\n",
      "(8, 37)\n",
      "Important_child_qualities_unselfishness.xls\n",
      "(9, 37)\n",
      "Important_child_qualities_Hard_work.xls\n",
      "(10, 37)\n"
     ]
    }
   ],
   "source": [
    "result = pd.DataFrame()\n",
    "\n",
    "for file in os.listdir(path):\n",
    "    if file == '.DS_Store':\n",
    "        continue\n",
    "    print(file)\n",
    "    current_df = pd.read_excel(path+file)\n",
    "    data = current_df.iloc[0][1:]\n",
    "    result = result.append(data, ignore_index=True)\n",
    "    print(result.shape)"
   ]
  },
  {
   "cell_type": "code",
   "execution_count": 152,
   "metadata": {},
   "outputs": [],
   "source": [
    "result = result.transpose()"
   ]
  },
  {
   "cell_type": "code",
   "execution_count": 153,
   "metadata": {},
   "outputs": [],
   "source": [
    "result.columns = new_cols"
   ]
  },
  {
   "cell_type": "code",
   "execution_count": 154,
   "metadata": {},
   "outputs": [
    {
     "data": {
      "text/plain": [
       "(37, 10)"
      ]
     },
     "execution_count": 154,
     "metadata": {},
     "output_type": "execute_result"
    }
   ],
   "source": [
    "result.shape"
   ]
  },
  {
   "cell_type": "code",
   "execution_count": 155,
   "metadata": {},
   "outputs": [],
   "source": [
    "result.reset_index(level=0, inplace=True)\n",
    "result = result.rename(columns={'index':'Country'})"
   ]
  },
  {
   "cell_type": "code",
   "execution_count": 156,
   "metadata": {},
   "outputs": [],
   "source": [
    "result.to_excel(filename, index=False)"
   ]
  },
  {
   "cell_type": "code",
   "execution_count": 157,
   "metadata": {},
   "outputs": [
    {
     "data": {
      "text/plain": [
       "(37, 11)"
      ]
     },
     "execution_count": 157,
     "metadata": {},
     "output_type": "execute_result"
    }
   ],
   "source": [
    "result.shape"
   ]
  },
  {
   "cell_type": "code",
   "execution_count": null,
   "metadata": {},
   "outputs": [],
   "source": []
  },
  {
   "cell_type": "code",
   "execution_count": null,
   "metadata": {},
   "outputs": [],
   "source": []
  }
 ],
 "metadata": {
  "kernelspec": {
   "display_name": "Python 3",
   "language": "python",
   "name": "python3"
  },
  "language_info": {
   "codemirror_mode": {
    "name": "ipython",
    "version": 3
   },
   "file_extension": ".py",
   "mimetype": "text/x-python",
   "name": "python",
   "nbconvert_exporter": "python",
   "pygments_lexer": "ipython3",
   "version": "3.7.5"
  }
 },
 "nbformat": 4,
 "nbformat_minor": 2
}
